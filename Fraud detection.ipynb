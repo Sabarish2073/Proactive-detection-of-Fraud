{
 "cells": [
  {
   "cell_type": "code",
   "execution_count": 29,
   "id": "eba84e96-ef78-440f-8738-a90f28534d54",
   "metadata": {},
   "outputs": [],
   "source": [
    "import pandas as pd\n",
    "import numpy as np\n",
    "import matplotlib.pyplot as plt\n",
    "import seaborn as sns\n",
    "import warnings\n",
    "warnings.filterwarnings(\"ignore\")\n",
    "from sklearn.model_selection import RandomizedSearchCV, train_test_split\n",
    "from sklearn.metrics import confusion_matrix, accuracy_score, f1_score, classification_report, roc_curve, auc"
   ]
  },
  {
   "cell_type": "code",
   "execution_count": 2,
   "id": "c64d80b4-b74d-451a-80e1-f07ef266b3c5",
   "metadata": {},
   "outputs": [],
   "source": [
    "data = pd.read_csv('S:/fraud dataset/Fraud.csv', chunksize=1900000)"
   ]
  },
  {
   "cell_type": "code",
   "execution_count": 3,
   "id": "be0c4ce4-0320-4271-9e2d-8ef833bcac3d",
   "metadata": {},
   "outputs": [
    {
     "name": "stdout",
     "output_type": "stream",
     "text": [
      "(1900000, 11)\n",
      "(1900000, 11)\n",
      "(1900000, 11)\n",
      "(662620, 11)\n"
     ]
    }
   ],
   "source": [
    "for chunks in data:\n",
    "    print(chunks.shape)"
   ]
  },
  {
   "cell_type": "code",
   "execution_count": 4,
   "id": "83ecf162-dd0d-4745-8630-9f77c9604fdf",
   "metadata": {},
   "outputs": [],
   "source": [
    "data=chunks"
   ]
  },
  {
   "cell_type": "code",
   "execution_count": 5,
   "id": "393e6e09-4baf-4989-be89-c6c54fe73aeb",
   "metadata": {},
   "outputs": [
    {
     "data": {
      "text/html": [
       "<div>\n",
       "<style scoped>\n",
       "    .dataframe tbody tr th:only-of-type {\n",
       "        vertical-align: middle;\n",
       "    }\n",
       "\n",
       "    .dataframe tbody tr th {\n",
       "        vertical-align: top;\n",
       "    }\n",
       "\n",
       "    .dataframe thead th {\n",
       "        text-align: right;\n",
       "    }\n",
       "</style>\n",
       "<table border=\"1\" class=\"dataframe\">\n",
       "  <thead>\n",
       "    <tr style=\"text-align: right;\">\n",
       "      <th></th>\n",
       "      <th>step</th>\n",
       "      <th>type</th>\n",
       "      <th>amount</th>\n",
       "      <th>nameOrig</th>\n",
       "      <th>oldbalanceOrg</th>\n",
       "      <th>newbalanceOrig</th>\n",
       "      <th>nameDest</th>\n",
       "      <th>oldbalanceDest</th>\n",
       "      <th>newbalanceDest</th>\n",
       "      <th>isFraud</th>\n",
       "      <th>isFlaggedFraud</th>\n",
       "    </tr>\n",
       "  </thead>\n",
       "  <tbody>\n",
       "    <tr>\n",
       "      <th>5720408</th>\n",
       "      <td>398</td>\n",
       "      <td>PAYMENT</td>\n",
       "      <td>7899.40</td>\n",
       "      <td>C2073439622</td>\n",
       "      <td>0.00</td>\n",
       "      <td>0.00</td>\n",
       "      <td>M2076377623</td>\n",
       "      <td>0.00</td>\n",
       "      <td>0.00</td>\n",
       "      <td>0</td>\n",
       "      <td>0</td>\n",
       "    </tr>\n",
       "    <tr>\n",
       "      <th>5720289</th>\n",
       "      <td>398</td>\n",
       "      <td>CASH_IN</td>\n",
       "      <td>239953.69</td>\n",
       "      <td>C1496532349</td>\n",
       "      <td>11049.00</td>\n",
       "      <td>251002.69</td>\n",
       "      <td>C769312811</td>\n",
       "      <td>4257596.42</td>\n",
       "      <td>4017642.73</td>\n",
       "      <td>0</td>\n",
       "      <td>0</td>\n",
       "    </tr>\n",
       "    <tr>\n",
       "      <th>6277044</th>\n",
       "      <td>640</td>\n",
       "      <td>CASH_IN</td>\n",
       "      <td>397065.61</td>\n",
       "      <td>C2113434941</td>\n",
       "      <td>23094.00</td>\n",
       "      <td>420159.61</td>\n",
       "      <td>C1842243704</td>\n",
       "      <td>108937.38</td>\n",
       "      <td>0.00</td>\n",
       "      <td>0</td>\n",
       "      <td>0</td>\n",
       "    </tr>\n",
       "    <tr>\n",
       "      <th>5888909</th>\n",
       "      <td>403</td>\n",
       "      <td>CASH_IN</td>\n",
       "      <td>216577.41</td>\n",
       "      <td>C2089955889</td>\n",
       "      <td>85445.00</td>\n",
       "      <td>302022.41</td>\n",
       "      <td>C2016308627</td>\n",
       "      <td>7534586.07</td>\n",
       "      <td>7361552.31</td>\n",
       "      <td>0</td>\n",
       "      <td>0</td>\n",
       "    </tr>\n",
       "    <tr>\n",
       "      <th>6095327</th>\n",
       "      <td>522</td>\n",
       "      <td>PAYMENT</td>\n",
       "      <td>13224.71</td>\n",
       "      <td>C361456738</td>\n",
       "      <td>34598.91</td>\n",
       "      <td>21374.20</td>\n",
       "      <td>M890734523</td>\n",
       "      <td>0.00</td>\n",
       "      <td>0.00</td>\n",
       "      <td>0</td>\n",
       "      <td>0</td>\n",
       "    </tr>\n",
       "  </tbody>\n",
       "</table>\n",
       "</div>"
      ],
      "text/plain": [
       "         step     type     amount     nameOrig  oldbalanceOrg  newbalanceOrig  \\\n",
       "5720408   398  PAYMENT    7899.40  C2073439622           0.00            0.00   \n",
       "5720289   398  CASH_IN  239953.69  C1496532349       11049.00       251002.69   \n",
       "6277044   640  CASH_IN  397065.61  C2113434941       23094.00       420159.61   \n",
       "5888909   403  CASH_IN  216577.41  C2089955889       85445.00       302022.41   \n",
       "6095327   522  PAYMENT   13224.71   C361456738       34598.91        21374.20   \n",
       "\n",
       "            nameDest  oldbalanceDest  newbalanceDest  isFraud  isFlaggedFraud  \n",
       "5720408  M2076377623            0.00            0.00        0               0  \n",
       "5720289   C769312811      4257596.42      4017642.73        0               0  \n",
       "6277044  C1842243704       108937.38            0.00        0               0  \n",
       "5888909  C2016308627      7534586.07      7361552.31        0               0  \n",
       "6095327   M890734523            0.00            0.00        0               0  "
      ]
     },
     "execution_count": 5,
     "metadata": {},
     "output_type": "execute_result"
    }
   ],
   "source": [
    "data.sample(5)"
   ]
  },
  {
   "cell_type": "code",
   "execution_count": 6,
   "id": "91889d07-61a8-4de4-95ce-4bc6bac6e37e",
   "metadata": {},
   "outputs": [
    {
     "name": "stdout",
     "output_type": "stream",
     "text": [
      "<class 'pandas.core.frame.DataFrame'>\n",
      "RangeIndex: 662620 entries, 5700000 to 6362619\n",
      "Data columns (total 11 columns):\n",
      " #   Column          Non-Null Count   Dtype  \n",
      "---  ------          --------------   -----  \n",
      " 0   step            662620 non-null  int64  \n",
      " 1   type            662620 non-null  object \n",
      " 2   amount          662620 non-null  float64\n",
      " 3   nameOrig        662620 non-null  object \n",
      " 4   oldbalanceOrg   662620 non-null  float64\n",
      " 5   newbalanceOrig  662620 non-null  float64\n",
      " 6   nameDest        662620 non-null  object \n",
      " 7   oldbalanceDest  662620 non-null  float64\n",
      " 8   newbalanceDest  662620 non-null  float64\n",
      " 9   isFraud         662620 non-null  int64  \n",
      " 10  isFlaggedFraud  662620 non-null  int64  \n",
      "dtypes: float64(5), int64(3), object(3)\n",
      "memory usage: 55.6+ MB\n"
     ]
    }
   ],
   "source": [
    "data.info()"
   ]
  },
  {
   "cell_type": "code",
   "execution_count": 7,
   "id": "ff1171ab-34e6-4327-afd3-81331c713631",
   "metadata": {},
   "outputs": [
    {
     "data": {
      "text/plain": [
       "False    662620\n",
       "Name: count, dtype: int64"
      ]
     },
     "execution_count": 7,
     "metadata": {},
     "output_type": "execute_result"
    }
   ],
   "source": [
    "data.duplicated().value_counts()"
   ]
  },
  {
   "cell_type": "code",
   "execution_count": 8,
   "id": "50640eef-cdba-4ae4-b33e-c945207985bc",
   "metadata": {},
   "outputs": [
    {
     "data": {
      "text/html": [
       "<div>\n",
       "<style scoped>\n",
       "    .dataframe tbody tr th:only-of-type {\n",
       "        vertical-align: middle;\n",
       "    }\n",
       "\n",
       "    .dataframe tbody tr th {\n",
       "        vertical-align: top;\n",
       "    }\n",
       "\n",
       "    .dataframe thead th {\n",
       "        text-align: right;\n",
       "    }\n",
       "</style>\n",
       "<table border=\"1\" class=\"dataframe\">\n",
       "  <thead>\n",
       "    <tr style=\"text-align: right;\">\n",
       "      <th></th>\n",
       "      <th>step</th>\n",
       "      <th>amount</th>\n",
       "      <th>oldbalanceOrg</th>\n",
       "      <th>newbalanceOrig</th>\n",
       "      <th>oldbalanceDest</th>\n",
       "      <th>newbalanceDest</th>\n",
       "      <th>isFraud</th>\n",
       "      <th>isFlaggedFraud</th>\n",
       "    </tr>\n",
       "  </thead>\n",
       "  <tbody>\n",
       "    <tr>\n",
       "      <th>count</th>\n",
       "      <td>662620.000000</td>\n",
       "      <td>6.626200e+05</td>\n",
       "      <td>6.626200e+05</td>\n",
       "      <td>6.626200e+05</td>\n",
       "      <td>6.626200e+05</td>\n",
       "      <td>6.626200e+05</td>\n",
       "      <td>662620.000000</td>\n",
       "      <td>662620.000000</td>\n",
       "    </tr>\n",
       "    <tr>\n",
       "      <th>mean</th>\n",
       "      <td>496.740452</td>\n",
       "      <td>1.680283e+05</td>\n",
       "      <td>7.537256e+05</td>\n",
       "      <td>7.689377e+05</td>\n",
       "      <td>1.196791e+06</td>\n",
       "      <td>1.288611e+06</td>\n",
       "      <td>0.005717</td>\n",
       "      <td>0.000018</td>\n",
       "    </tr>\n",
       "    <tr>\n",
       "      <th>std</th>\n",
       "      <td>101.902434</td>\n",
       "      <td>4.109657e+05</td>\n",
       "      <td>2.552330e+06</td>\n",
       "      <td>2.578379e+06</td>\n",
       "      <td>4.109849e+06</td>\n",
       "      <td>4.175612e+06</td>\n",
       "      <td>0.075392</td>\n",
       "      <td>0.004256</td>\n",
       "    </tr>\n",
       "    <tr>\n",
       "      <th>min</th>\n",
       "      <td>398.000000</td>\n",
       "      <td>0.000000e+00</td>\n",
       "      <td>0.000000e+00</td>\n",
       "      <td>0.000000e+00</td>\n",
       "      <td>0.000000e+00</td>\n",
       "      <td>0.000000e+00</td>\n",
       "      <td>0.000000</td>\n",
       "      <td>0.000000</td>\n",
       "    </tr>\n",
       "    <tr>\n",
       "      <th>25%</th>\n",
       "      <td>403.000000</td>\n",
       "      <td>1.305841e+04</td>\n",
       "      <td>0.000000e+00</td>\n",
       "      <td>0.000000e+00</td>\n",
       "      <td>0.000000e+00</td>\n",
       "      <td>0.000000e+00</td>\n",
       "      <td>0.000000</td>\n",
       "      <td>0.000000</td>\n",
       "    </tr>\n",
       "    <tr>\n",
       "      <th>50%</th>\n",
       "      <td>474.000000</td>\n",
       "      <td>7.065667e+04</td>\n",
       "      <td>1.593800e+04</td>\n",
       "      <td>0.000000e+00</td>\n",
       "      <td>1.075769e+05</td>\n",
       "      <td>1.854002e+05</td>\n",
       "      <td>0.000000</td>\n",
       "      <td>0.000000</td>\n",
       "    </tr>\n",
       "    <tr>\n",
       "      <th>75%</th>\n",
       "      <td>573.000000</td>\n",
       "      <td>2.012567e+05</td>\n",
       "      <td>1.076580e+05</td>\n",
       "      <td>1.410075e+05</td>\n",
       "      <td>9.073872e+05</td>\n",
       "      <td>1.045937e+06</td>\n",
       "      <td>0.000000</td>\n",
       "      <td>0.000000</td>\n",
       "    </tr>\n",
       "    <tr>\n",
       "      <th>max</th>\n",
       "      <td>743.000000</td>\n",
       "      <td>1.541594e+07</td>\n",
       "      <td>5.958504e+07</td>\n",
       "      <td>4.958504e+07</td>\n",
       "      <td>3.560159e+08</td>\n",
       "      <td>3.561793e+08</td>\n",
       "      <td>1.000000</td>\n",
       "      <td>1.000000</td>\n",
       "    </tr>\n",
       "  </tbody>\n",
       "</table>\n",
       "</div>"
      ],
      "text/plain": [
       "                step        amount  oldbalanceOrg  newbalanceOrig  \\\n",
       "count  662620.000000  6.626200e+05   6.626200e+05    6.626200e+05   \n",
       "mean      496.740452  1.680283e+05   7.537256e+05    7.689377e+05   \n",
       "std       101.902434  4.109657e+05   2.552330e+06    2.578379e+06   \n",
       "min       398.000000  0.000000e+00   0.000000e+00    0.000000e+00   \n",
       "25%       403.000000  1.305841e+04   0.000000e+00    0.000000e+00   \n",
       "50%       474.000000  7.065667e+04   1.593800e+04    0.000000e+00   \n",
       "75%       573.000000  2.012567e+05   1.076580e+05    1.410075e+05   \n",
       "max       743.000000  1.541594e+07   5.958504e+07    4.958504e+07   \n",
       "\n",
       "       oldbalanceDest  newbalanceDest        isFraud  isFlaggedFraud  \n",
       "count    6.626200e+05    6.626200e+05  662620.000000   662620.000000  \n",
       "mean     1.196791e+06    1.288611e+06       0.005717        0.000018  \n",
       "std      4.109849e+06    4.175612e+06       0.075392        0.004256  \n",
       "min      0.000000e+00    0.000000e+00       0.000000        0.000000  \n",
       "25%      0.000000e+00    0.000000e+00       0.000000        0.000000  \n",
       "50%      1.075769e+05    1.854002e+05       0.000000        0.000000  \n",
       "75%      9.073872e+05    1.045937e+06       0.000000        0.000000  \n",
       "max      3.560159e+08    3.561793e+08       1.000000        1.000000  "
      ]
     },
     "execution_count": 8,
     "metadata": {},
     "output_type": "execute_result"
    }
   ],
   "source": [
    "#see statistical measures\n",
    "data.describe()"
   ]
  },
  {
   "cell_type": "code",
   "execution_count": 9,
   "id": "958c0653-4db7-4107-b6e6-f713ddc25987",
   "metadata": {},
   "outputs": [
    {
     "data": {
      "text/html": [
       "<div>\n",
       "<style scoped>\n",
       "    .dataframe tbody tr th:only-of-type {\n",
       "        vertical-align: middle;\n",
       "    }\n",
       "\n",
       "    .dataframe tbody tr th {\n",
       "        vertical-align: top;\n",
       "    }\n",
       "\n",
       "    .dataframe thead th {\n",
       "        text-align: right;\n",
       "    }\n",
       "</style>\n",
       "<table border=\"1\" class=\"dataframe\">\n",
       "  <thead>\n",
       "    <tr style=\"text-align: right;\">\n",
       "      <th></th>\n",
       "      <th>type</th>\n",
       "      <th>nameOrig</th>\n",
       "      <th>nameDest</th>\n",
       "    </tr>\n",
       "  </thead>\n",
       "  <tbody>\n",
       "    <tr>\n",
       "      <th>count</th>\n",
       "      <td>662620</td>\n",
       "      <td>662620</td>\n",
       "      <td>662620</td>\n",
       "    </tr>\n",
       "    <tr>\n",
       "      <th>unique</th>\n",
       "      <td>5</td>\n",
       "      <td>662520</td>\n",
       "      <td>534705</td>\n",
       "    </tr>\n",
       "    <tr>\n",
       "      <th>top</th>\n",
       "      <td>PAYMENT</td>\n",
       "      <td>C515118379</td>\n",
       "      <td>C229021471</td>\n",
       "    </tr>\n",
       "    <tr>\n",
       "      <th>freq</th>\n",
       "      <td>229253</td>\n",
       "      <td>2</td>\n",
       "      <td>8</td>\n",
       "    </tr>\n",
       "  </tbody>\n",
       "</table>\n",
       "</div>"
      ],
      "text/plain": [
       "           type    nameOrig    nameDest\n",
       "count    662620      662620      662620\n",
       "unique        5      662520      534705\n",
       "top     PAYMENT  C515118379  C229021471\n",
       "freq     229253           2           8"
      ]
     },
     "execution_count": 9,
     "metadata": {},
     "output_type": "execute_result"
    }
   ],
   "source": [
    "data.describe(include=object)"
   ]
  },
  {
   "cell_type": "code",
   "execution_count": 10,
   "id": "e2f89fa1-9d5f-4bf2-b01a-77721f3c8868",
   "metadata": {},
   "outputs": [
    {
     "data": {
      "text/plain": [
       "step              0\n",
       "type              0\n",
       "amount            0\n",
       "nameOrig          0\n",
       "oldbalanceOrg     0\n",
       "newbalanceOrig    0\n",
       "nameDest          0\n",
       "oldbalanceDest    0\n",
       "newbalanceDest    0\n",
       "isFraud           0\n",
       "isFlaggedFraud    0\n",
       "dtype: int64"
      ]
     },
     "execution_count": 10,
     "metadata": {},
     "output_type": "execute_result"
    }
   ],
   "source": [
    "\n",
    "#check null values in dataset\n",
    "data.isnull().sum()"
   ]
  },
  {
   "cell_type": "code",
   "execution_count": 11,
   "id": "ee8191d8-d7aa-4dc9-9179-3b630d0fad87",
   "metadata": {},
   "outputs": [
    {
     "data": {
      "text/plain": [
       "step                 346\n",
       "type                   5\n",
       "amount            645631\n",
       "nameOrig          662520\n",
       "oldbalanceOrg     266819\n",
       "newbalanceOrig    292341\n",
       "nameDest          534705\n",
       "oldbalanceDest    370358\n",
       "newbalanceDest    397176\n",
       "isFraud                2\n",
       "isFlaggedFraud         2\n",
       "dtype: int64"
      ]
     },
     "execution_count": 11,
     "metadata": {},
     "output_type": "execute_result"
    }
   ],
   "source": [
    "#check unique values\n",
    "data.nunique()"
   ]
  },
  {
   "cell_type": "code",
   "execution_count": 12,
   "id": "5e529354-82af-466f-8284-14a195fb86af",
   "metadata": {},
   "outputs": [
    {
     "name": "stdout",
     "output_type": "stream",
     "text": [
      "Index(['step', 'type', 'amount', 'nameOrig', 'oldbalanceOrg', 'newbalanceOrig',\n",
      "       'nameDest', 'oldbalanceDest', 'newbalanceDest', 'isFraud',\n",
      "       'isFlaggedFraud'],\n",
      "      dtype='object')\n"
     ]
    }
   ],
   "source": [
    "# Print column names\n",
    "print(data.columns)"
   ]
  },
  {
   "cell_type": "code",
   "execution_count": 13,
   "id": "efca264a-b104-4b2a-bdaf-6af09df7e083",
   "metadata": {},
   "outputs": [
    {
     "name": "stdout",
     "output_type": "stream",
     "text": [
      "type\n",
      "PAYMENT     229253\n",
      "CASH_OUT    221626\n",
      "CASH_IN     147763\n",
      "TRANSFER     59171\n",
      "DEBIT         4807\n",
      "Name: count, dtype: int64\n"
     ]
    },
    {
     "data": {
      "image/png": "[encoded data removed]",
      "text/plain": [
       "<Figure size 1000x300 with 1 Axes>"
      ]
     },
     "metadata": {},
     "output_type": "display_data"
    }
   ],
   "source": [
    "sns.set(rc={'figure.figsize':(10,3)})\n",
    "data.type.value_counts().plot(kind='bar')\n",
    "print(data.type.value_counts())"
   ]
  },
  {
   "cell_type": "code",
   "execution_count": 14,
   "id": "16b17a7e-03b0-43f9-8911-6724488d13ef",
   "metadata": {},
   "outputs": [],
   "source": [
    "#check correlation\n",
    "# Exclude non-numeric columns\n",
    "numeric_data = data.select_dtypes(include=[np.number])\n",
    "\n",
    "# Calculate correlation\n",
    "correlation_matrix = numeric_data.corr()"
   ]
  },
  {
   "cell_type": "code",
   "execution_count": 15,
   "id": "2480b532-be79-4502-93d0-82fe1b2f05bc",
   "metadata": {},
   "outputs": [
    {
     "data": {
      "text/html": [
       "<div>\n",
       "<style scoped>\n",
       "    .dataframe tbody tr th:only-of-type {\n",
       "        vertical-align: middle;\n",
       "    }\n",
       "\n",
       "    .dataframe tbody tr th {\n",
       "        vertical-align: top;\n",
       "    }\n",
       "\n",
       "    .dataframe thead th {\n",
       "        text-align: right;\n",
       "    }\n",
       "</style>\n",
       "<table border=\"1\" class=\"dataframe\">\n",
       "  <thead>\n",
       "    <tr style=\"text-align: right;\">\n",
       "      <th></th>\n",
       "      <th>step</th>\n",
       "      <th>amount</th>\n",
       "      <th>oldbalanceOrg</th>\n",
       "      <th>newbalanceOrig</th>\n",
       "      <th>oldbalanceDest</th>\n",
       "      <th>newbalanceDest</th>\n",
       "      <th>isFraud</th>\n",
       "      <th>isFlaggedFraud</th>\n",
       "    </tr>\n",
       "  </thead>\n",
       "  <tbody>\n",
       "    <tr>\n",
       "      <th>step</th>\n",
       "      <td>1.000000</td>\n",
       "      <td>0.010414</td>\n",
       "      <td>-0.039446</td>\n",
       "      <td>-0.041383</td>\n",
       "      <td>-0.007223</td>\n",
       "      <td>-0.007115</td>\n",
       "      <td>0.054679</td>\n",
       "      <td>0.005262</td>\n",
       "    </tr>\n",
       "    <tr>\n",
       "      <th>amount</th>\n",
       "      <td>0.010414</td>\n",
       "      <td>1.000000</td>\n",
       "      <td>0.057252</td>\n",
       "      <td>0.012335</td>\n",
       "      <td>0.144413</td>\n",
       "      <td>0.223091</td>\n",
       "      <td>0.256199</td>\n",
       "      <td>0.055265</td>\n",
       "    </tr>\n",
       "    <tr>\n",
       "      <th>oldbalanceOrg</th>\n",
       "      <td>-0.039446</td>\n",
       "      <td>0.057252</td>\n",
       "      <td>1.000000</td>\n",
       "      <td>0.995378</td>\n",
       "      <td>0.067677</td>\n",
       "      <td>0.052273</td>\n",
       "      <td>0.032013</td>\n",
       "      <td>0.014494</td>\n",
       "    </tr>\n",
       "    <tr>\n",
       "      <th>newbalanceOrig</th>\n",
       "      <td>-0.041383</td>\n",
       "      <td>0.012335</td>\n",
       "      <td>0.995378</td>\n",
       "      <td>1.000000</td>\n",
       "      <td>0.070311</td>\n",
       "      <td>0.051448</td>\n",
       "      <td>-0.014022</td>\n",
       "      <td>0.014323</td>\n",
       "    </tr>\n",
       "    <tr>\n",
       "      <th>oldbalanceDest</th>\n",
       "      <td>-0.007223</td>\n",
       "      <td>0.144413</td>\n",
       "      <td>0.067677</td>\n",
       "      <td>0.070311</td>\n",
       "      <td>1.000000</td>\n",
       "      <td>0.995306</td>\n",
       "      <td>-0.010591</td>\n",
       "      <td>-0.001239</td>\n",
       "    </tr>\n",
       "    <tr>\n",
       "      <th>newbalanceDest</th>\n",
       "      <td>-0.007115</td>\n",
       "      <td>0.223091</td>\n",
       "      <td>0.052273</td>\n",
       "      <td>0.051448</td>\n",
       "      <td>0.995306</td>\n",
       "      <td>1.000000</td>\n",
       "      <td>0.001883</td>\n",
       "      <td>-0.001313</td>\n",
       "    </tr>\n",
       "    <tr>\n",
       "      <th>isFraud</th>\n",
       "      <td>0.054679</td>\n",
       "      <td>0.256199</td>\n",
       "      <td>0.032013</td>\n",
       "      <td>-0.014022</td>\n",
       "      <td>-0.010591</td>\n",
       "      <td>0.001883</td>\n",
       "      <td>1.000000</td>\n",
       "      <td>0.056123</td>\n",
       "    </tr>\n",
       "    <tr>\n",
       "      <th>isFlaggedFraud</th>\n",
       "      <td>0.005262</td>\n",
       "      <td>0.055265</td>\n",
       "      <td>0.014494</td>\n",
       "      <td>0.014323</td>\n",
       "      <td>-0.001239</td>\n",
       "      <td>-0.001313</td>\n",
       "      <td>0.056123</td>\n",
       "      <td>1.000000</td>\n",
       "    </tr>\n",
       "  </tbody>\n",
       "</table>\n",
       "</div>"
      ],
      "text/plain": [
       "                    step    amount  oldbalanceOrg  newbalanceOrig  \\\n",
       "step            1.000000  0.010414      -0.039446       -0.041383   \n",
       "amount          0.010414  1.000000       0.057252        0.012335   \n",
       "oldbalanceOrg  -0.039446  0.057252       1.000000        0.995378   \n",
       "newbalanceOrig -0.041383  0.012335       0.995378        1.000000   \n",
       "oldbalanceDest -0.007223  0.144413       0.067677        0.070311   \n",
       "newbalanceDest -0.007115  0.223091       0.052273        0.051448   \n",
       "isFraud         0.054679  0.256199       0.032013       -0.014022   \n",
       "isFlaggedFraud  0.005262  0.055265       0.014494        0.014323   \n",
       "\n",
       "                oldbalanceDest  newbalanceDest   isFraud  isFlaggedFraud  \n",
       "step                 -0.007223       -0.007115  0.054679        0.005262  \n",
       "amount                0.144413        0.223091  0.256199        0.055265  \n",
       "oldbalanceOrg         0.067677        0.052273  0.032013        0.014494  \n",
       "newbalanceOrig        0.070311        0.051448 -0.014022        0.014323  \n",
       "oldbalanceDest        1.000000        0.995306 -0.010591       -0.001239  \n",
       "newbalanceDest        0.995306        1.000000  0.001883       -0.001313  \n",
       "isFraud              -0.010591        0.001883  1.000000        0.056123  \n",
       "isFlaggedFraud       -0.001239       -0.001313  0.056123        1.000000  "
      ]
     },
     "execution_count": 15,
     "metadata": {},
     "output_type": "execute_result"
    }
   ],
   "source": [
    "correlation_matrix"
   ]
  },
  {
   "cell_type": "code",
   "execution_count": 16,
   "id": "ed7d9db8-e963-47d7-a1a4-c94134dc2405",
   "metadata": {},
   "outputs": [
    {
     "data": {
      "text/plain": [
       "<Axes: >"
      ]
     },
     "execution_count": 16,
     "metadata": {},
     "output_type": "execute_result"
    },
    {
     "data": {
      "image/png": "[encoded data removed]",
      "text/plain": [
       "<Figure size 1000x300 with 1 Axes>"
      ]
     },
     "metadata": {},
     "output_type": "display_data"
    }
   ],
   "source": [
    "# Exclude non-numeric columns\n",
    "numeric_data = data.select_dtypes(include=[np.number])\n",
    "\n",
    "# Calculate skewness\n",
    "skewness = numeric_data.skew()\n",
    "\n",
    "# Plot skewness\n",
    "skewness.plot(kind='bar')"
   ]
  },
  {
   "cell_type": "code",
   "execution_count": 17,
   "id": "26cebc74-a669-4c05-a57b-ae5ed81f044c",
   "metadata": {},
   "outputs": [
    {
     "name": "stdout",
     "output_type": "stream",
     "text": [
      "Index(['step', 'type', 'amount', 'nameOrig', 'oldbalanceOrg', 'newbalanceOrig',\n",
      "       'nameDest', 'oldbalanceDest', 'newbalanceDest', 'isFraud',\n",
      "       'isFlaggedFraud'],\n",
      "      dtype='object')\n"
     ]
    },
    {
     "data": {
      "text/plain": [
       "step                int64\n",
       "type               object\n",
       "amount            float64\n",
       "nameOrig           object\n",
       "oldbalanceOrg     float64\n",
       "newbalanceOrig    float64\n",
       "nameDest           object\n",
       "oldbalanceDest    float64\n",
       "newbalanceDest    float64\n",
       "isFraud             int64\n",
       "isFlaggedFraud      int64\n",
       "dtype: object"
      ]
     },
     "execution_count": 17,
     "metadata": {},
     "output_type": "execute_result"
    }
   ],
   "source": [
    "print(data.columns)\n",
    "data.dtypes"
   ]
  },
  {
   "cell_type": "code",
   "execution_count": 18,
   "id": "7eaccdaf-5627-44e0-bbb3-88af30bed009",
   "metadata": {},
   "outputs": [
    {
     "data": {
      "text/plain": [
       "<Axes: >"
      ]
     },
     "execution_count": 18,
     "metadata": {},
     "output_type": "execute_result"
    },
    {
     "data": {
      "image/png": "[encoded data removed]",
      "text/plain": [
       "<Figure size 1200x500 with 1 Axes>"
      ]
     },
     "metadata": {},
     "output_type": "display_data"
    }
   ],
   "source": [
    "#Draw boxplot\n",
    "sns.set(rc={'figure.figsize':(12,5)})\n",
    "sns.boxplot(data = data)"
   ]
  },
  {
   "cell_type": "code",
   "execution_count": 19,
   "id": "7d6045b2-2894-4460-bd9e-4114718f847a",
   "metadata": {},
   "outputs": [],
   "source": [
    "#convert categorical variable into numerical\n",
    "from sklearn.preprocessing import OrdinalEncoder\n",
    "OE = OrdinalEncoder()\n",
    "data['type'] = OE.fit_transform(data[['type']])"
   ]
  },
  {
   "cell_type": "code",
   "execution_count": 20,
   "id": "d00f6c7e-4eca-4531-a0af-67b8a27d6e73",
   "metadata": {},
   "outputs": [
    {
     "data": {
      "text/html": [
       "<div>\n",
       "<style scoped>\n",
       "    .dataframe tbody tr th:only-of-type {\n",
       "        vertical-align: middle;\n",
       "    }\n",
       "\n",
       "    .dataframe tbody tr th {\n",
       "        vertical-align: top;\n",
       "    }\n",
       "\n",
       "    .dataframe thead th {\n",
       "        text-align: right;\n",
       "    }\n",
       "</style>\n",
       "<table border=\"1\" class=\"dataframe\">\n",
       "  <thead>\n",
       "    <tr style=\"text-align: right;\">\n",
       "      <th></th>\n",
       "      <th>step</th>\n",
       "      <th>type</th>\n",
       "      <th>amount</th>\n",
       "      <th>oldbalanceOrg</th>\n",
       "      <th>newbalanceOrig</th>\n",
       "      <th>oldbalanceDest</th>\n",
       "      <th>newbalanceDest</th>\n",
       "      <th>isFraud</th>\n",
       "      <th>isFlaggedFraud</th>\n",
       "    </tr>\n",
       "  </thead>\n",
       "  <tbody>\n",
       "    <tr>\n",
       "      <th>5700000</th>\n",
       "      <td>398</td>\n",
       "      <td>3.0</td>\n",
       "      <td>11049.92</td>\n",
       "      <td>172026.62</td>\n",
       "      <td>160976.70</td>\n",
       "      <td>0.00</td>\n",
       "      <td>0.00</td>\n",
       "      <td>0</td>\n",
       "      <td>0</td>\n",
       "    </tr>\n",
       "    <tr>\n",
       "      <th>5700001</th>\n",
       "      <td>398</td>\n",
       "      <td>1.0</td>\n",
       "      <td>293878.48</td>\n",
       "      <td>99129.00</td>\n",
       "      <td>0.00</td>\n",
       "      <td>73233.24</td>\n",
       "      <td>367111.73</td>\n",
       "      <td>0</td>\n",
       "      <td>0</td>\n",
       "    </tr>\n",
       "    <tr>\n",
       "      <th>5700002</th>\n",
       "      <td>398</td>\n",
       "      <td>1.0</td>\n",
       "      <td>128578.22</td>\n",
       "      <td>31124.00</td>\n",
       "      <td>0.00</td>\n",
       "      <td>380293.23</td>\n",
       "      <td>508871.45</td>\n",
       "      <td>0</td>\n",
       "      <td>0</td>\n",
       "    </tr>\n",
       "    <tr>\n",
       "      <th>5700003</th>\n",
       "      <td>398</td>\n",
       "      <td>0.0</td>\n",
       "      <td>280791.81</td>\n",
       "      <td>17022.00</td>\n",
       "      <td>297813.81</td>\n",
       "      <td>2689280.82</td>\n",
       "      <td>2408489.01</td>\n",
       "      <td>0</td>\n",
       "      <td>0</td>\n",
       "    </tr>\n",
       "    <tr>\n",
       "      <th>5700004</th>\n",
       "      <td>398</td>\n",
       "      <td>1.0</td>\n",
       "      <td>37678.62</td>\n",
       "      <td>297813.81</td>\n",
       "      <td>260135.20</td>\n",
       "      <td>77720.16</td>\n",
       "      <td>115398.78</td>\n",
       "      <td>0</td>\n",
       "      <td>0</td>\n",
       "    </tr>\n",
       "    <tr>\n",
       "      <th>...</th>\n",
       "      <td>...</td>\n",
       "      <td>...</td>\n",
       "      <td>...</td>\n",
       "      <td>...</td>\n",
       "      <td>...</td>\n",
       "      <td>...</td>\n",
       "      <td>...</td>\n",
       "      <td>...</td>\n",
       "      <td>...</td>\n",
       "    </tr>\n",
       "    <tr>\n",
       "      <th>6362615</th>\n",
       "      <td>743</td>\n",
       "      <td>1.0</td>\n",
       "      <td>339682.13</td>\n",
       "      <td>339682.13</td>\n",
       "      <td>0.00</td>\n",
       "      <td>0.00</td>\n",
       "      <td>339682.13</td>\n",
       "      <td>1</td>\n",
       "      <td>0</td>\n",
       "    </tr>\n",
       "    <tr>\n",
       "      <th>6362616</th>\n",
       "      <td>743</td>\n",
       "      <td>4.0</td>\n",
       "      <td>6311409.28</td>\n",
       "      <td>6311409.28</td>\n",
       "      <td>0.00</td>\n",
       "      <td>0.00</td>\n",
       "      <td>0.00</td>\n",
       "      <td>1</td>\n",
       "      <td>0</td>\n",
       "    </tr>\n",
       "    <tr>\n",
       "      <th>6362617</th>\n",
       "      <td>743</td>\n",
       "      <td>1.0</td>\n",
       "      <td>6311409.28</td>\n",
       "      <td>6311409.28</td>\n",
       "      <td>0.00</td>\n",
       "      <td>68488.84</td>\n",
       "      <td>6379898.11</td>\n",
       "      <td>1</td>\n",
       "      <td>0</td>\n",
       "    </tr>\n",
       "    <tr>\n",
       "      <th>6362618</th>\n",
       "      <td>743</td>\n",
       "      <td>4.0</td>\n",
       "      <td>850002.52</td>\n",
       "      <td>850002.52</td>\n",
       "      <td>0.00</td>\n",
       "      <td>0.00</td>\n",
       "      <td>0.00</td>\n",
       "      <td>1</td>\n",
       "      <td>0</td>\n",
       "    </tr>\n",
       "    <tr>\n",
       "      <th>6362619</th>\n",
       "      <td>743</td>\n",
       "      <td>1.0</td>\n",
       "      <td>850002.52</td>\n",
       "      <td>850002.52</td>\n",
       "      <td>0.00</td>\n",
       "      <td>6510099.11</td>\n",
       "      <td>7360101.63</td>\n",
       "      <td>1</td>\n",
       "      <td>0</td>\n",
       "    </tr>\n",
       "  </tbody>\n",
       "</table>\n",
       "<p>662620 rows × 9 columns</p>\n",
       "</div>"
      ],
      "text/plain": [
       "         step  type      amount  oldbalanceOrg  newbalanceOrig  \\\n",
       "5700000   398   3.0    11049.92      172026.62       160976.70   \n",
       "5700001   398   1.0   293878.48       99129.00            0.00   \n",
       "5700002   398   1.0   128578.22       31124.00            0.00   \n",
       "5700003   398   0.0   280791.81       17022.00       297813.81   \n",
       "5700004   398   1.0    37678.62      297813.81       260135.20   \n",
       "...       ...   ...         ...            ...             ...   \n",
       "6362615   743   1.0   339682.13      339682.13            0.00   \n",
       "6362616   743   4.0  6311409.28     6311409.28            0.00   \n",
       "6362617   743   1.0  6311409.28     6311409.28            0.00   \n",
       "6362618   743   4.0   850002.52      850002.52            0.00   \n",
       "6362619   743   1.0   850002.52      850002.52            0.00   \n",
       "\n",
       "         oldbalanceDest  newbalanceDest  isFraud  isFlaggedFraud  \n",
       "5700000            0.00            0.00        0               0  \n",
       "5700001        73233.24       367111.73        0               0  \n",
       "5700002       380293.23       508871.45        0               0  \n",
       "5700003      2689280.82      2408489.01        0               0  \n",
       "5700004        77720.16       115398.78        0               0  \n",
       "...                 ...             ...      ...             ...  \n",
       "6362615            0.00       339682.13        1               0  \n",
       "6362616            0.00            0.00        1               0  \n",
       "6362617        68488.84      6379898.11        1               0  \n",
       "6362618            0.00            0.00        1               0  \n",
       "6362619      6510099.11      7360101.63        1               0  \n",
       "\n",
       "[662620 rows x 9 columns]"
      ]
     },
     "execution_count": 20,
     "metadata": {},
     "output_type": "execute_result"
    }
   ],
   "source": [
    "data = data.drop(['nameOrig','nameDest'], axis = 'columns')\n",
    "data"
   ]
  },
  {
   "cell_type": "code",
   "execution_count": 21,
   "id": "eb08b50b-20c6-467a-9504-720ae7b0d704",
   "metadata": {},
   "outputs": [],
   "source": [
    "a = data.drop(['isFraud'], axis = 'columns')\n",
    "b = data['isFraud']"
   ]
  },
  {
   "cell_type": "code",
   "execution_count": 22,
   "id": "cb10e7b4-faca-4563-bd48-a2dfcccaa6a5",
   "metadata": {},
   "outputs": [],
   "source": [
    "from sklearn.preprocessing import StandardScaler\n",
    "SS = StandardScaler()\n",
    "a = SS.fit_transform(a)"
   ]
  },
  {
   "cell_type": "code",
   "execution_count": 23,
   "id": "9a805ed0-f88f-4cae-bf76-4e650a4b1489",
   "metadata": {},
   "outputs": [],
   "source": [
    "# Split the data into X and y\n",
    "X = a  # Exclude the 'isFraud' column from input features\n",
    "y = b  # Target variable"
   ]
  },
  {
   "cell_type": "code",
   "execution_count": 24,
   "id": "895162f5-1664-456d-b725-4d5f3f2dd585",
   "metadata": {},
   "outputs": [
    {
     "name": "stdout",
     "output_type": "stream",
     "text": [
      "(530096, 8)\n",
      "(132524, 8)\n",
      "(530096,)\n",
      "(132524,)\n"
     ]
    }
   ],
   "source": [
    "from sklearn.model_selection import train_test_split\n",
    "X_train, X_test, y_train, y_test = train_test_split(X, y, test_size=0.2, random_state = 5)\n",
    "print(X_train.shape)\n",
    "print(X_test.shape)\n",
    "print(y_train.shape)\n",
    "print(y_test.shape)"
   ]
  },
  {
   "cell_type": "code",
   "execution_count": 25,
   "id": "fecc80f9-fe3b-471d-b088-98be271f9d84",
   "metadata": {},
   "outputs": [],
   "source": [
    "from sklearn.svm import SVC\n",
    "from sklearn.tree import DecisionTreeClassifier\n",
    "from sklearn.neighbors import KNeighborsClassifier\n",
    "from sklearn.ensemble import RandomForestClassifier\n",
    "from sklearn.ensemble import GradientBoostingClassifier\n",
    "from sklearn.linear_model import LogisticRegression"
   ]
  },
  {
   "cell_type": "code",
   "execution_count": 26,
   "id": "35edd072-fa7e-481c-9b79-18540d0d406e",
   "metadata": {},
   "outputs": [
    {
     "name": "stdout",
     "output_type": "stream",
     "text": [
      "0.9982965349672512\n",
      "0.9982644653043977\n"
     ]
    }
   ],
   "source": [
    "dtc = DecisionTreeClassifier(max_depth = 5, random_state = 1)\n",
    "dtc.fit(X_train, y_train)\n",
    "train_score = dtc.score(X_train, y_train)\n",
    "test_score = dtc.score(X_test, y_test)\n",
    "print(train_score)\n",
    "print(test_score)"
   ]
  },
  {
   "cell_type": "code",
   "execution_count": 27,
   "id": "0d8eea1f-a17d-45fc-b44b-316a35766b64",
   "metadata": {},
   "outputs": [
    {
     "name": "stdout",
     "output_type": "stream",
     "text": [
      "0.9968326491805258\n",
      "0.9968307627297697\n"
     ]
    }
   ],
   "source": [
    "LR = LogisticRegression()\n",
    "LR.fit(X_train,y_train)\n",
    "print(LR.score(X_train, y_train))\n",
    "print(LR.score(X_test, y_test))"
   ]
  },
  {
   "cell_type": "code",
   "execution_count": 32,
   "id": "5cf65033-9c80-40ee-9741-97fc8e735a7b",
   "metadata": {},
   "outputs": [
    {
     "name": "stdout",
     "output_type": "stream",
     "text": [
      "Best Hyperparameters: {'n_estimators': 10, 'min_samples_split': 5, 'max_depth': 15}\n"
     ]
    }
   ],
   "source": [
    "# Define the parameter grid to search over\n",
    "param_dist = {\n",
    "    'n_estimators': [10, 20, 30],\n",
    "    'max_depth': [5, 10, 15],\n",
    "    'min_samples_split': [2, 5, 10]\n",
    "}\n",
    "\n",
    "# Create the model\n",
    "model = RandomForestClassifier()\n",
    "\n",
    "random_search = RandomizedSearchCV(model, param_distributions=param_dist, n_iter=10, cv=3, scoring='accuracy', n_jobs=-1, random_state=42)\n",
    "random_search.fit(X_train, y_train)\n",
    "\n",
    "# Get the best hyperparameters\n",
    "best_params = random_search.best_params_\n",
    "print(\"Best Hyperparameters:\", best_params)\n"
   ]
  },
  {
   "cell_type": "code",
   "execution_count": 34,
   "id": "e264386d-cc35-49b0-907d-0a5fa1fcf2fb",
   "metadata": {},
   "outputs": [
    {
     "name": "stdout",
     "output_type": "stream",
     "text": [
      "Validation Accuracy: 0.998860583743322\n"
     ]
    }
   ],
   "source": [
    "# Evaluate the model with the best hyperparameters on the validation set\n",
    "best_model = random_search.best_estimator_\n",
    "y_pred = best_model.predict(X_test)\n",
    "accuracy = accuracy_score(y_test, y_pred)\n",
    "print(\"Validation Accuracy:\", accuracy)"
   ]
  },
  {
   "cell_type": "code",
   "execution_count": 35,
   "id": "5033f743-7967-4f6f-8b12-1c0d4d13a219",
   "metadata": {},
   "outputs": [
    {
     "name": "stdout",
     "output_type": "stream",
     "text": [
      "accuracy_score: 0.998860583743322\n",
      "f1_score: 0.9429894407873713\n"
     ]
    },
    {
     "data": {
      "text/plain": [
       "array([[131783,      5],\n",
       "       [   146,    590]], dtype=int64)"
      ]
     },
     "execution_count": 35,
     "metadata": {},
     "output_type": "execute_result"
    }
   ],
   "source": [
    "print('accuracy_score:',accuracy_score(y_test, y_pred))\n",
    "print('f1_score:',f1_score(y_test,y_pred, average = 'macro'))\n",
    "cm = confusion_matrix(y_test,y_pred)\n",
    "cm"
   ]
  },
  {
   "cell_type": "code",
   "execution_count": 36,
   "id": "4d71b516-3ffc-49e4-a57d-e1693836477c",
   "metadata": {},
   "outputs": [
    {
     "name": "stdout",
     "output_type": "stream",
     "text": [
      "              precision    recall  f1-score   support\n",
      "\n",
      "           0       1.00      1.00      1.00    131788\n",
      "           1       0.99      0.80      0.89       736\n",
      "\n",
      "    accuracy                           1.00    132524\n",
      "   macro avg       1.00      0.90      0.94    132524\n",
      "weighted avg       1.00      1.00      1.00    132524\n",
      "\n"
     ]
    }
   ],
   "source": [
    "print(classification_report(y_test, y_pred))"
   ]
  },
  {
   "cell_type": "code",
   "execution_count": 37,
   "id": "b66172af-682c-428f-b254-8a2420f041cb",
   "metadata": {},
   "outputs": [
    {
     "data": {
      "image/png": "[encoded data removed]",
      "text/plain": [
       "<Figure size 1000x500 with 1 Axes>"
      ]
     },
     "metadata": {},
     "output_type": "display_data"
    }
   ],
   "source": [
    "sns.set(rc={'figure.figsize':(10,5)})\n",
    "# ROC curve and AUC\n",
    "fpr, tpr, thresholds = roc_curve(y_test, y_pred)\n",
    "roc_auc = auc(fpr, tpr)\n",
    "plt.plot(fpr, tpr, label='ROC curve (area = %0.2f)' % roc_auc)\n",
    "plt.plot([0, 1], [0, 1], 'm-')\n",
    "plt.xlim([-0.1, 1.1])\n",
    "plt.ylim([-0.1, 1.1])\n",
    "plt.xlabel('False Positive Rate')\n",
    "plt.ylabel('True Positive Rate')\n",
    "plt.title('ROC Curve')\n",
    "plt.legend()\n",
    "plt.show()"
   ]
  },
  {
   "cell_type": "code",
   "execution_count": 45,
   "id": "f14cf0d9-8564-40f1-ac6d-cd3a2749133e",
   "metadata": {},
   "outputs": [
    {
     "data": {
      "image/png": "[encoded data removed]",
      "text/plain": [
       "<Figure size 1000x700 with 2 Axes>"
      ]
     },
     "metadata": {},
     "output_type": "display_data"
    }
   ],
   "source": [
    "conf_matrix = confusion_matrix(y_test, y_pred)\n",
    "# Plot confusion matrix\n",
    "plt.figure(figsize=(10, 7))\n",
    "sns.heatmap(conf_matrix, annot=True, fmt='d', cmap='YlOrBr', xticklabels=['Predicted 0', 'Predicted 1'], yticklabels=['Actual 0', 'Actual 1'])\n",
    "plt.xlabel('Predicted')\n",
    "plt.ylabel('Actual')\n",
    "plt.title('Confusion Matrix')\n",
    "plt.show()\n"
   ]
  },
  {
   "cell_type": "code",
   "execution_count": null,
   "id": "dd2ff184-0ec7-420d-89fe-c488c2954ec4",
   "metadata": {},
   "outputs": [],
   "source": []
  }
 ],
 "metadata": {
  "kernelspec": {
   "display_name": "Python 3 (ipykernel)",
   "language": "python",
   "name": "python3"
  },
  "language_info": {
   "codemirror_mode": {
    "name": "ipython",
    "version": 3
   },
   "file_extension": ".py",
   "mimetype": "text/x-python",
   "name": "python",
   "nbconvert_exporter": "python",
   "pygments_lexer": "ipython3",
   "version": "3.11.7"
  }
 },
 "nbformat": 4,
 "nbformat_minor": 5
}
